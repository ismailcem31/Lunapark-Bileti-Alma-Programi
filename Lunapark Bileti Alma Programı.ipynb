{
 "cells": [
  {
   "cell_type": "code",
   "execution_count": null,
   "id": "3228605b",
   "metadata": {},
   "outputs": [],
   "source": [
    "print(\"Lunapark hız trenine hoş geldiniz.\")\n",
    " \n",
    "\n",
    "boy = int(input('Boyunuzun uzunluğunu \"santimetre\" cinsinden giriniz...\\n'))\n",
    " \n",
    "\n",
    "if boy >= 120:\n",
    "    yas = int(input(\"Bilet parası için kaç yaşında olduğunuzu söyler misiniz?\\n\"))  \n",
    " \n",
    "    if yas < 12:\n",
    "        print(\"Bilet ücretiniz: 15 TL\")\n",
    "    elif yas < 18:\n",
    "        print(\"Bilet ücretiniz: 25 TL\")\n",
    "    else:\n",
    "        print(\"Bilet ücretiniz: 35 TL\")\n",
    "else:\n",
    "    print(\"Üzgünüz, hız trenine binme koşulunu sağlamıyorsunuz...\")"
   ]
  }
 ],
 "metadata": {
  "kernelspec": {
   "display_name": "Python 3 (ipykernel)",
   "language": "python",
   "name": "python3"
  },
  "language_info": {
   "codemirror_mode": {
    "name": "ipython",
    "version": 3
   },
   "file_extension": ".py",
   "mimetype": "text/x-python",
   "name": "python",
   "nbconvert_exporter": "python",
   "pygments_lexer": "ipython3",
   "version": "3.11.3"
  }
 },
 "nbformat": 4,
 "nbformat_minor": 5
}
